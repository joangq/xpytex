{
 "cells": [
  {
   "cell_type": "markdown",
   "metadata": {},
   "source": [
    "# Implementing more complex constant handlers"
   ]
  },
  {
   "cell_type": "code",
   "execution_count": 1,
   "metadata": {},
   "outputs": [],
   "source": [
    "# Driver code\n",
    "from ast import parse, Constant, Name, Attribute, Compare, BoolOp, BinOp, Call\n",
    "from xpytex import expressions, constants, names, attributes, comparisons, bool_operations, binary_operations, function_calls\n",
    "from xpytex.utils import displaymath\n",
    "\n",
    "expressions.register_handler(Constant, constants)\n",
    "expressions.register_handler(Name, names)\n",
    "expressions.register_handler(Attribute, attributes)\n",
    "expressions.register_handler(Compare, comparisons)\n",
    "expressions.register_handler(BoolOp, bool_operations)\n",
    "expressions.register_handler(BinOp, binary_operations)\n",
    "expressions.register_handler(Call, function_calls)\n",
    "\n",
    "code = '278_956'\n",
    "AST = parse(code) # This generates a Module AST\n",
    "AST = AST.body # Gets the lines of the Module\n",
    "AST = AST[0] # Gets the first line\n",
    "AST = AST.value # Gets the contents of the line"
   ]
  },
  {
   "cell_type": "markdown",
   "metadata": {},
   "source": [
    "## Int handler"
   ]
  },
  {
   "cell_type": "markdown",
   "metadata": {},
   "source": [
    "So, we've created the following `int` handler:"
   ]
  },
  {
   "cell_type": "code",
   "execution_count": 2,
   "metadata": {},
   "outputs": [
    {
     "data": {
      "text/latex": [
       "$\\displaystyle 278956$"
      ],
      "text/plain": [
       "<IPython.core.display.Math object>"
      ]
     },
     "metadata": {},
     "output_type": "display_data"
    }
   ],
   "source": [
    "# A simple int handler\n",
    "def int_to_latex(x: int) -> str: return str(x)\n",
    "constants.register_handler(int, int_to_latex)\n",
    "\n",
    "displaymath( expressions.latexify(AST) )"
   ]
  },
  {
   "cell_type": "markdown",
   "metadata": {},
   "source": [
    "What if we wanted to display numbers greater than $10,000$ with scientific notation?\n",
    "\n",
    "\n",
    "We have a few options to achieve that..."
   ]
  },
  {
   "cell_type": "code",
   "execution_count": 3,
   "metadata": {},
   "outputs": [
    {
     "data": {
      "text/latex": [
       "$\\displaystyle 1.0 \\times 10^{0}$"
      ],
      "text/plain": [
       "<IPython.core.display.Math object>"
      ]
     },
     "metadata": {},
     "output_type": "display_data"
    },
    {
     "data": {
      "text/latex": [
       "$\\displaystyle 2.3 \\times 10^{3}$"
      ],
      "text/plain": [
       "<IPython.core.display.Math object>"
      ]
     },
     "metadata": {},
     "output_type": "display_data"
    },
    {
     "data": {
      "text/latex": [
       "$\\displaystyle 1.23456 \\times 10^{5}$"
      ],
      "text/plain": [
       "<IPython.core.display.Math object>"
      ]
     },
     "metadata": {},
     "output_type": "display_data"
    }
   ],
   "source": [
    "# Suppose we have a function that converts a number to scientific notation in LaTeX\n",
    "\n",
    "def scientific_notation(x: int) -> str:\n",
    "    return rf\"{float(str(x)[0] + '.' + str(x)[1:])} \\times 10^{{{len(str(x)) - 1}}}\"\n",
    "\n",
    "displaymath( scientific_notation(1) )\n",
    "displaymath( scientific_notation(2300) )\n",
    "displaymath( scientific_notation(123_456) )"
   ]
  },
  {
   "cell_type": "code",
   "execution_count": 4,
   "metadata": {},
   "outputs": [
    {
     "data": {
      "text/latex": [
       "$\\displaystyle 2.78956 \\times 10^{5}$"
      ],
      "text/plain": [
       "<IPython.core.display.Math object>"
      ]
     },
     "metadata": {},
     "output_type": "display_data"
    }
   ],
   "source": [
    "# The first option we have is to modify the handler function directly.\n",
    "\n",
    "def int_to_latex(x: int) -> str: \n",
    "    if x < 10_000:\n",
    "        return str(x)\n",
    "    else:\n",
    "        return scientific_notation(x)\n",
    "    \n",
    "constants.register_handler(int, int_to_latex)\n",
    "\n",
    "displaymath( expressions.latexify(AST) )"
   ]
  },
  {
   "cell_type": "markdown",
   "metadata": {},
   "source": [
    "But this could be inconvenient for adding complex behaviour, specially if more rules are involved.\n",
    "Then, because the handler has to be a callable (not necessarily a function), then we could create a callable object, or register a static method from a handler class."
   ]
  },
  {
   "cell_type": "markdown",
   "metadata": {},
   "source": [
    "For example, take this `int_handler` object:"
   ]
  },
  {
   "cell_type": "code",
   "execution_count": 5,
   "metadata": {},
   "outputs": [],
   "source": [
    "from typing import List, Callable\n",
    "\n",
    "class int_handler:\n",
    "    default: Callable[[int], str]\n",
    "    rules: List[Callable[[int], str]] = []\n",
    "\n",
    "    @staticmethod\n",
    "    def default(x: int) -> str: return str(x)\n",
    "    \n",
    "    @classmethod\n",
    "    def add_rule(cls, rule):\n",
    "        cls.rules.append(rule)\n",
    "    \n",
    "    @classmethod\n",
    "    def get_rule(cls, x: int) -> Callable[[int], str]:\n",
    "        if len(cls.rules) == 0: return cls.default(x)\n",
    "\n",
    "        ys = [f(x) for f in cls.rules]\n",
    "        matches = map(lambda x: x != '', ys)\n",
    "        matches = list(matches)\n",
    "\n",
    "        if not any(matches):\n",
    "            # print(\"int_handler didn't match any rules, backing to default formatting.\")\n",
    "            return cls.default(x)\n",
    "        elif matches.count(True) > 1:\n",
    "            raise LookupError(\"Multiple rules match.\")\n",
    "        else:\n",
    "            return ys[matches.index(True)]\n",
    "\n",
    "    @classmethod\n",
    "    def apply(cls, x: int) -> str:\n",
    "        return cls.get_rule(x)"
   ]
  },
  {
   "cell_type": "markdown",
   "metadata": {},
   "source": [
    "In this example, this handler is a bit more complex. It has a 'rules' registry. A 'rule' is just another function. If a rule matches, then it returns some relevant output. If not, it just returns an empty string. The handler then evaluates this rules one by one per input. If multiple rules match, it throws an error. If no rules match, it uses some default formatting. If a single rule matches, it returns that output."
   ]
  },
  {
   "cell_type": "markdown",
   "metadata": {},
   "source": [
    "Let's register it and try it."
   ]
  },
  {
   "cell_type": "code",
   "execution_count": 6,
   "metadata": {},
   "outputs": [
    {
     "data": {
      "text/latex": [
       "$\\displaystyle 278956$"
      ],
      "text/plain": [
       "<IPython.core.display.Math object>"
      ]
     },
     "metadata": {},
     "output_type": "display_data"
    }
   ],
   "source": [
    "constants.register_handler(int, int_handler.apply)\n",
    "\n",
    "displaymath( expressions.latexify(AST) )"
   ]
  },
  {
   "cell_type": "markdown",
   "metadata": {},
   "source": [
    "Wait, we forgot to add the rules!"
   ]
  },
  {
   "cell_type": "code",
   "execution_count": 7,
   "metadata": {},
   "outputs": [
    {
     "data": {
      "text/latex": [
       "$\\displaystyle 2.78956 \\times 10^{5}$"
      ],
      "text/plain": [
       "<IPython.core.display.Math object>"
      ]
     },
     "metadata": {},
     "output_type": "display_data"
    }
   ],
   "source": [
    "def scientific_notation_rule(x: int):\n",
    "    return '' if x < 10_000 else scientific_notation(x)\n",
    "\n",
    "int_handler.add_rule(scientific_notation_rule)\n",
    "\n",
    "displaymath( expressions.latexify(AST) )"
   ]
  },
  {
   "cell_type": "markdown",
   "metadata": {},
   "source": [
    "And with some other numbers..."
   ]
  },
  {
   "cell_type": "code",
   "execution_count": 8,
   "metadata": {},
   "outputs": [
    {
     "data": {
      "text/latex": [
       "$\\displaystyle 9999$"
      ],
      "text/plain": [
       "<IPython.core.display.Math object>"
      ]
     },
     "metadata": {},
     "output_type": "display_data"
    }
   ],
   "source": [
    "code = '9_999'\n",
    "AST = parse(code) # This generates a Module AST\n",
    "AST = AST.body # Gets the lines of the Module\n",
    "AST = AST[0] # Gets the first line\n",
    "AST = AST.value # Gets the contents of the line\n",
    "\n",
    "displaymath( expressions.latexify(AST) )"
   ]
  },
  {
   "cell_type": "markdown",
   "metadata": {},
   "source": [
    "Let's add more rules! For example, say we want to display a Googol. A \"Googol\" is a '1' followed by a hundred zeroes.\n",
    "We can generate such number as a string by:\n",
    "\n",
    "```python\n",
    "'1'+''.join(['0']*100)\n",
    "```\n",
    "\n",
    "A rule for that number could look something like this:"
   ]
  },
  {
   "cell_type": "code",
   "execution_count": 9,
   "metadata": {},
   "outputs": [],
   "source": [
    "def googol_rule(x: int) -> str: return '' if x != int('1'+''.join(['0']*100)) else r'\\text{Googol}'\n",
    "int_handler.add_rule(googol_rule)"
   ]
  },
  {
   "cell_type": "markdown",
   "metadata": {},
   "source": [
    "Let's try it!\n",
    "\n",
    "```python\n",
    "googol = '1'+''.join(['0']*100)\n",
    "\n",
    "code = googol\n",
    "AST = parse(code) # This generates a Module AST\n",
    "AST = AST.body # Gets the lines of the Module\n",
    "AST = AST[0] # Gets the first line\n",
    "AST = AST.value # Gets the contents of the line\n",
    "\n",
    "displaymath( expressions.latexify(AST) ) # -> LookupError: Multiple rules match.\n",
    "```\n",
    "\n",
    "Oh no! Multiple rules match. Remember that our handler doesn't have resolution strategies for collision in the rules, and in this case the `scientific_notation` rule is colliding with `googol_rule`."
   ]
  },
  {
   "cell_type": "markdown",
   "metadata": {},
   "source": [
    "## What can we do about it?\n",
    "\n",
    "Well, there's a lot of possible answers. We could implement the handler in some better way. Note that this handler only provides ways for adding rules and not removing them, so to resolve our conflict we have to restart the program.\n",
    "\n",
    "Maybe some better design decisions on the handler can make this work. That also includes maybe implementing resolution strategies for rule collisioning.\n",
    "\n",
    "The point of this example is to show the capabilities of segregating the responsability of the handlers as much as possible.\n",
    "\n",
    "Because the handlers just need to be _callable_ we _can_ in fact implement this in much better ways, without needing to modify the rest of the source code."
   ]
  }
 ],
 "metadata": {
  "kernelspec": {
   "display_name": "Python 3",
   "language": "python",
   "name": "python3"
  },
  "language_info": {
   "codemirror_mode": {
    "name": "ipython",
    "version": 3
   },
   "file_extension": ".py",
   "mimetype": "text/x-python",
   "name": "python",
   "nbconvert_exporter": "python",
   "pygments_lexer": "ipython3",
   "version": "3.10.12"
  },
  "orig_nbformat": 4
 },
 "nbformat": 4,
 "nbformat_minor": 2
}
