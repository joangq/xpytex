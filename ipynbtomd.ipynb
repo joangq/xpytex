{
 "cells": [
  {
   "cell_type": "code",
   "execution_count": 1,
   "metadata": {},
   "outputs": [],
   "source": [
    "import json"
   ]
  },
  {
   "cell_type": "code",
   "execution_count": 7,
   "metadata": {},
   "outputs": [],
   "source": [
    "with open(\"./using-xpytex.ipynb\", mode= \"r\", encoding= \"utf-8\") as f:\n",
    "    notebook = json.load(f)"
   ]
  },
  {
   "cell_type": "code",
   "execution_count": 43,
   "metadata": {},
   "outputs": [],
   "source": [
    "def process_notebook(notebook):\n",
    "    result = \"\"\n",
    "\n",
    "    for cell in notebook['cells']:\n",
    "        if cell['cell_type'] == 'markdown':\n",
    "            for line in cell['source']:\n",
    "                result += line + \"\\n\"\n",
    "        elif cell['cell_type'] == 'code':\n",
    "            result += '\\n```python\\n'\n",
    "            for line in cell['source']:\n",
    "                result += line + \"\\n\"\n",
    "            result += '```\\n'\n",
    "            result += \"\\nOutput:\\n\"\n",
    "            for line in cell['outputs']:\n",
    "                for k, v in line['data'].items():\n",
    "                    if 'latex' in k:\n",
    "                        for l in v:\n",
    "                            result += \"\\n$$\\n\"\n",
    "                            result += l[1:-1].replace(r'_', r'\\_').replace(r'\\\\', r'\\\\\\\\') + \"\\n\"\n",
    "                            result += \"$$\\n\"\n",
    "\n",
    "    return result"
   ]
  },
  {
   "cell_type": "code",
   "execution_count": 46,
   "metadata": {},
   "outputs": [],
   "source": [
    "with open('./simple-example-ipynb.md', 'w') as f:\n",
    "    f.write(process_notebook(notebook))"
   ]
  },
  {
   "cell_type": "code",
   "execution_count": null,
   "metadata": {},
   "outputs": [],
   "source": []
  }
 ],
 "metadata": {
  "kernelspec": {
   "display_name": "Python 3",
   "language": "python",
   "name": "python3"
  },
  "language_info": {
   "codemirror_mode": {
    "name": "ipython",
    "version": 3
   },
   "file_extension": ".py",
   "mimetype": "text/x-python",
   "name": "python",
   "nbconvert_exporter": "python",
   "pygments_lexer": "ipython3",
   "version": "3.10.12"
  },
  "orig_nbformat": 4
 },
 "nbformat": 4,
 "nbformat_minor": 2
}
