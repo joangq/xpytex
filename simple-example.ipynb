{
 "cells": [
  {
   "cell_type": "markdown",
   "metadata": {},
   "source": [
    "# Handlers in xpytex"
   ]
  },
  {
   "cell_type": "code",
   "execution_count": 1,
   "metadata": {},
   "outputs": [],
   "source": [
    "from ast import parse, Constant, Name, Attribute, Compare, BoolOp, BinOp, Call\n",
    "from xpytex import expressions, constants, names, attributes, comparisons, bool_operations, binary_operations, function_calls\n",
    "from xpytex.utils import displaymath"
   ]
  },
  {
   "cell_type": "markdown",
   "metadata": {},
   "source": [
    "`xpytex` uses _handlers_. Each one handles a certain type of AST. The \"expression\" handler mutually depends on all the handlers of different expressions. This means that, for example, the \"binary operations\" handler (because \"binary operations\" are a type of expression) depends on the expression handler, this is because a binary expression is defined as `<expr><binary_operator><expr>`, and the only one who knows how to parse expressions is, well... the expressions handler.\n",
    "\n",
    "Out of the box, the handlers are defined for some expressions. Athough, xpytex is designed to have them be interchangable, that's why we have to `register` them. Each handler has to have a method called `latexify`."
   ]
  },
  {
   "cell_type": "code",
   "execution_count": 2,
   "metadata": {},
   "outputs": [],
   "source": [
    "expressions.register_handler(Constant, constants)\n",
    "expressions.register_handler(Name, names)\n",
    "expressions.register_handler(Attribute, attributes)\n",
    "expressions.register_handler(Compare, comparisons)\n",
    "expressions.register_handler(BoolOp, bool_operations)\n",
    "expressions.register_handler(BinOp, binary_operations)\n",
    "expressions.register_handler(Call, function_calls)"
   ]
  },
  {
   "cell_type": "code",
   "execution_count": 3,
   "metadata": {},
   "outputs": [],
   "source": [
    "code = 'a > b'\n",
    "AST = parse(code) # This generates a Module AST\n",
    "AST = AST.body # Gets the lines of the Module\n",
    "AST = AST[0] # Gets the first line\n",
    "AST = AST.value # Gets the contents of the line"
   ]
  },
  {
   "cell_type": "code",
   "execution_count": 4,
   "metadata": {},
   "outputs": [
    {
     "data": {
      "text/latex": [
       "$\\displaystyle a {>}b$"
      ],
      "text/plain": [
       "<IPython.core.display.Math object>"
      ]
     },
     "metadata": {},
     "output_type": "display_data"
    }
   ],
   "source": [
    "displaymath( expressions.latexify(AST) )"
   ]
  },
  {
   "cell_type": "markdown",
   "metadata": {},
   "source": [
    "There, we parsed our first expression!\n",
    "Let's parse another!"
   ]
  },
  {
   "cell_type": "code",
   "execution_count": 5,
   "metadata": {},
   "outputs": [],
   "source": [
    "code = '1 < 3'\n",
    "AST = parse(code) # This generates a Module AST\n",
    "AST = AST.body # Gets the lines of the Module\n",
    "AST = AST[0] # Gets the first line\n",
    "AST = AST.value # Gets the contents of the line"
   ]
  },
  {
   "cell_type": "markdown",
   "metadata": {},
   "source": [
    "```python\n",
    "displaymath( expressions.latexify(AST) ) # -> Throws KeyError: <class 'int'>\n",
    "```\n",
    "\n",
    "This is because the default `constants` handler requires sub-handlers for each data type. All the datatypes that qualify as \"Constants\" are:\n",
    "`str`, `bytes`, `bool`, `int`, `float`, `complex` (And also `None` and `Ellipsis`)\n",
    "Let's add some! Each handler has to be a callable. When called, it should receive a value and return a `str` that is the corresponding LaTeX code. The type of the value has to be a valid constant type. "
   ]
  },
  {
   "cell_type": "code",
   "execution_count": 6,
   "metadata": {},
   "outputs": [
    {
     "data": {
      "text/latex": [
       "$\\displaystyle 1 {<}3$"
      ],
      "text/plain": [
       "<IPython.core.display.Math object>"
      ]
     },
     "metadata": {},
     "output_type": "display_data"
    }
   ],
   "source": [
    "# A simple int handler\n",
    "def int_to_latex(x: int) -> str: return str(x)\n",
    "\n",
    "# Register the sub-handler to the constants handler\n",
    "constants.register_handler(int, int_to_latex)\n",
    "\n",
    "# Let's try again :)\n",
    "displaymath( expressions.latexify(AST) )"
   ]
  },
  {
   "cell_type": "markdown",
   "metadata": {},
   "source": [
    "Let's try some other handlers!\n",
    "For example, given that \"complex\" is another type of constant, let's try to create one for them.\n",
    "\n",
    "Given that a [complex number](https://en.wikipedia.org/wiki/Complex_number) in Python is represented by the form \"bj\", let's try to adapt it to print \"bi\" (As it's more usual when doing math)."
   ]
  },
  {
   "cell_type": "code",
   "execution_count": 7,
   "metadata": {},
   "outputs": [
    {
     "name": "stdout",
     "output_type": "stream",
     "text": [
      "Z = (2+3j)\n",
      "Z = (2+3i)\n",
      "Z = 2+3i\n"
     ]
    }
   ],
   "source": [
    "z = 2+3j\n",
    "z_str = str(z)\n",
    "print(f'Z = '+z_str)\n",
    "\n",
    "# Let's replace the 'j' for an 'i'\n",
    "z_str = z_str.replace('j', 'i')\n",
    "print(f'Z = '+z_str)\n",
    "\n",
    "# And remove the parentheses...\n",
    "z_str = z_str.replace('(', '')\n",
    "z_str = z_str.replace(')', '')\n",
    "print(f'Z = '+z_str)"
   ]
  },
  {
   "cell_type": "markdown",
   "metadata": {},
   "source": [
    "That looks great! Let's package it all up into a single function."
   ]
  },
  {
   "cell_type": "code",
   "execution_count": 8,
   "metadata": {},
   "outputs": [
    {
     "data": {
      "text/latex": [
       "$\\displaystyle 3i$"
      ],
      "text/plain": [
       "<IPython.core.display.Math object>"
      ]
     },
     "metadata": {},
     "output_type": "display_data"
    }
   ],
   "source": [
    "def complex_to_latex(z: complex) -> str:\n",
    "    z_str = str(z)\n",
    "    z_str = z_str.replace('j', 'i')\n",
    "    z_str = z_str.replace('(', '')\n",
    "    z_str = z_str.replace(')', '')\n",
    "    return z_str\n",
    "\n",
    "displaymath(complex_to_latex(3j))"
   ]
  },
  {
   "cell_type": "markdown",
   "metadata": {},
   "source": [
    "And now, register it as a `constants` handler."
   ]
  },
  {
   "cell_type": "code",
   "execution_count": 9,
   "metadata": {},
   "outputs": [
    {
     "data": {
      "text/latex": [
       "$\\displaystyle 3i {>}0i$"
      ],
      "text/plain": [
       "<IPython.core.display.Math object>"
      ]
     },
     "metadata": {},
     "output_type": "display_data"
    }
   ],
   "source": [
    "constants.register_handler(complex, complex_to_latex)\n",
    "\n",
    "# Let's see it in action!\n",
    "code = '3j > 0j'\n",
    "AST = parse(code) # This generates a Module AST\n",
    "AST = AST.body # Gets the lines of the Module\n",
    "AST = AST[0] # Gets the first line\n",
    "AST = AST.value # Gets the contents of the line\n",
    "\n",
    "displaymath( expressions.latexify(AST) )"
   ]
  },
  {
   "cell_type": "markdown",
   "metadata": {},
   "source": [
    "Hmm... \"0i\" is fine, but what if we wanted to display it only as \"0\"? Well, for that let's change the handler function"
   ]
  },
  {
   "cell_type": "code",
   "execution_count": 10,
   "metadata": {},
   "outputs": [
    {
     "name": "stdout",
     "output_type": "stream",
     "text": [
      "Test 1\n",
      "0 = 0 is True\n",
      "\n",
      "Test 2\n",
      "3i = 3i is True\n"
     ]
    }
   ],
   "source": [
    "def complex_to_latex(z: complex) -> str:\n",
    "    if z == 0: \n",
    "        return '0'\n",
    "    else:\n",
    "        z_str = str(z)\n",
    "        z_str = z_str.replace('j', 'i')\n",
    "        z_str = z_str.replace('(', '')\n",
    "        z_str = z_str.replace(')', '')\n",
    "        return z_str\n",
    "\n",
    "# And let's test it!\n",
    "z = 0j\n",
    "expected_z = '0'\n",
    "\n",
    "w = 3j\n",
    "expected_w = '3i'\n",
    "\n",
    "print('Test 1')\n",
    "print(f'{complex_to_latex(z)} = {expected_z} is {complex_to_latex(z) == expected_z}')\n",
    "print()\n",
    "print('Test 2')\n",
    "print(f'{complex_to_latex(w)} = {expected_w} is {complex_to_latex(w) == expected_w}')"
   ]
  },
  {
   "cell_type": "markdown",
   "metadata": {},
   "source": [
    "Great! Our function passes our loosely defined tests. Let's register it as a constants handler."
   ]
  },
  {
   "cell_type": "code",
   "execution_count": 11,
   "metadata": {},
   "outputs": [
    {
     "data": {
      "text/latex": [
       "$\\displaystyle 3i {>}0$"
      ],
      "text/plain": [
       "<IPython.core.display.Math object>"
      ]
     },
     "metadata": {},
     "output_type": "display_data"
    }
   ],
   "source": [
    "constants.register_handler(complex, complex_to_latex)\n",
    "\n",
    "# Let's see it in action!\n",
    "code = '3j > 0j'\n",
    "AST = parse(code) # This generates a Module AST\n",
    "AST = AST.body # Gets the lines of the Module\n",
    "AST = AST[0] # Gets the first line\n",
    "AST = AST.value # Gets the contents of the line\n",
    "\n",
    "displaymath( expressions.latexify(AST) )"
   ]
  }
 ],
 "metadata": {
  "kernelspec": {
   "display_name": "Python 3",
   "language": "python",
   "name": "python3"
  },
  "language_info": {
   "codemirror_mode": {
    "name": "ipython",
    "version": 3
   },
   "file_extension": ".py",
   "mimetype": "text/x-python",
   "name": "python",
   "nbconvert_exporter": "python",
   "pygments_lexer": "ipython3",
   "version": "3.10.12"
  },
  "orig_nbformat": 4
 },
 "nbformat": 4,
 "nbformat_minor": 2
}
